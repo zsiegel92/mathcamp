{
 "cells": [
  {
   "cell_type": "markdown",
   "metadata": {},
   "source": [
    "# Math Camp Assignment\n",
    "\n",
    "Click <kbd>RUN</kbd> to run this code."
   ]
  },
  {
   "cell_type": "code",
   "execution_count": 1,
   "metadata": {},
   "outputs": [
    {
     "name": "stdout",
     "output_type": "stream",
     "text": [
      "true intercept = 5, true slope = 10\n",
      "estimated intercept = 4.913679105773108, estimated slope = 10.016512194931659\n"
     ]
    },
    {
     "data": {
      "image/png": "[encoded data removed]",
      "text/plain": [
       "<Figure size 432x288 with 4 Axes>"
      ]
     },
     "metadata": {
      "needs_background": "light"
     },
     "output_type": "display_data"
    }
   ],
   "source": [
    "%matplotlib notebook\n",
    "#visit https://mybinder.org/v2/gh/zsiegel92/mathcamp/master?filepath=assignments%2FMath%20Camp%20Assignment%20with%20Slider.ipynb\n",
    "import matplotlib.pyplot as plt\n",
    "from matplotlib.widgets import Slider\n",
    "from numpy.random import normal as randn\n",
    "from numpy import matrix, asscalar\n",
    "from numpy.linalg import inv\n",
    "\n",
    "\n",
    "alpha = 5 #y-intercept\n",
    "beta = 10 #slope\n",
    "error_std_dev = 3\n",
    "n = 100\n",
    "min = 0.01\n",
    "max = 1\n",
    "\n",
    "\n",
    "\n",
    "# plot_ax = plt.axes([0.25, 0.35, 0.6, 0.5],)\n",
    "# plot_ax = plt.axes([a1, a2, a3, a4],)\n",
    "alpha_slider_ax = plt.axes([0.25, 0.15, 0.6, 0.03])\n",
    "beta_slider_ax = plt.axes([0.25,0.1,0.6,0.03])\n",
    "deviation_slider_ax = plt.axes([0.25,0.05,0.6,0.03])\n",
    "\n",
    "# plot_ax.set_yticklabels([])\n",
    "# plot_ax.set_xticklabels([])\n",
    "# plt.xticks([])\n",
    "# plt.yticks([])\n",
    "\n",
    "xvals = [min + x*(max-min)/n for x in range(n)]\n",
    "X = matrix([[1,x] for x in xvals])\n",
    "\n",
    "\n",
    "beta_slider = Slider(beta_slider_ax, 'slope', 0.1, 30.0, valinit=10, valstep=0.4)\n",
    "alpha_slider = Slider(alpha_slider_ax, 'intercept', -20, 20, valinit=5, valstep=0.4)\n",
    "deviation_slider = Slider(deviation_slider_ax, 'error s', 0.4, 10, valinit=3, valstep=0.1)\n",
    "\n",
    "\n",
    "# ax = plt.axes(plot_ax)\n",
    "\n",
    "\n",
    "def update(a,b,s):\n",
    "\tglobal alpha, beta\n",
    "\talpha = a\n",
    "\tbeta = b\n",
    "\ty_exact = [beta*x + alpha for x in xvals]\n",
    "\terrors = [randn(0,s) for x in range(n)]\n",
    "\ty_measured = [y_exact[i] + errors[i] for i in range(n)]\n",
    "\ty_measured_matrix = matrix([[y] for y in y_measured]) #turn list into nx1 matrix (vector)\n",
    "\tOLS = inv(X.transpose() * X) * X.transpose() * y_measured_matrix #Estimating alpha and beta\n",
    "\talpha_hat = OLS[0][0].item()\n",
    "\tbeta_hat = OLS[1][0].item()\n",
    "\ty_estimated = [alpha_hat + beta_hat * x for x in xvals]\n",
    "\tplot_ax = plt.axes([.25, .3, .6, .5],xlim=(-0.5,1),ylim=(-25,25))\n",
    "\tax = plt.axes(plot_ax)\n",
    "\tax.clear()\n",
    "\tline1 = ax.plot(xvals,y_measured,'b^')[0]\n",
    "\tline2 = ax.plot(xvals,y_estimated,'r--')[0]\n",
    "\tline1.set_data(xvals,y_measured)\n",
    "\tline2.set_data(xvals,y_estimated)\n",
    "\tprint(f\"true intercept = {alpha}, true slope = {beta}\\nestimated intercept = {alpha_hat}, estimated slope = {beta_hat}\")\n",
    "\tline1 = ax.plot(xvals,y_measured,'b^')[0]\n",
    "\tline2 = ax.plot(xvals,y_estimated,'r--')[0]\n",
    "\tplt.ylabel('y values')\n",
    "\tplt.xlabel('x values')\n",
    "\tplt.title('OLS Regression\\n(slider generates errors with new parameters)\\n(see console)')\n",
    "\tplt.show()\n",
    "\n",
    "\n",
    "\n",
    "def update_alpha(a):\n",
    "\tglobal alpha\n",
    "\talpha = a\n",
    "\tupdate(alpha,beta,error_std_dev)\n",
    "\n",
    "def update_beta(b):\n",
    "\tglobal beta\n",
    "\tbeta = b\n",
    "\tupdate(alpha,beta,error_std_dev)\n",
    "\n",
    "def update_deviation(s):\n",
    "\tglobal error_std_dev\n",
    "\terror_std_dev = s\n",
    "\tupdate(alpha,beta,error_std_dev)\n",
    "\n",
    "# beta = Slider(axamp, 'Amp', 0.1, 10.0, valinit=a0)\n",
    "# error_std_dev = Slider(axamp, 'Amp', 0.1, 10.0, valinit=a0)\n",
    "\n",
    "beta_slider.on_changed(update_beta)\n",
    "alpha_slider.on_changed(update_alpha)\n",
    "deviation_slider.on_changed(update_deviation)\n",
    "\n",
    "update(alpha,beta,error_std_dev)\n",
    "\n",
    "\n",
    "\n"
   ]
  },
  {
   "cell_type": "code",
   "execution_count": null,
   "metadata": {},
   "outputs": [],
   "source": []
  }
 ],
 "metadata": {
  "kernelspec": {
   "display_name": "Python 3",
   "language": "python",
   "name": "python3"
  },
  "language_info": {
   "codemirror_mode": {
    "name": "ipython",
    "version": 3
   },
   "file_extension": ".py",
   "mimetype": "text/x-python",
   "name": "python",
   "nbconvert_exporter": "python",
   "pygments_lexer": "ipython3",
   "version": "3.7.4"
  }
 },
 "nbformat": 4,
 "nbformat_minor": 2
}
