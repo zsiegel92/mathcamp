{
 "cells": [
  {
   "cell_type": "markdown",
   "metadata": {},
   "source": [
    "# Math Camp Assignment\n",
    "\n",
    "Click <kbd>RUN</kbd> to run this code."
   ]
  },
  {
   "cell_type": "code",
   "execution_count": 3,
   "metadata": {},
   "outputs": [
    {
     "name": "stdout",
     "output_type": "stream",
     "text": [
      "Warning: Cannot change to a different GUI toolkit: notebook. Using osx instead.\n",
      "true intercept = 5, true slope = 10\n",
      "\n",
      "estimated intercept = 4.656731609995526, estimated slope = 10.31929680525731\n"
     ]
    }
   ],
   "source": [
    "%matplotlib notebook\n",
    "# import numpy\n",
    "import matplotlib.pyplot as plt\n",
    "from numpy.random import normal as randn\n",
    "from numpy import matrix, asscalar\n",
    "from numpy.linalg import inv\n",
    "\n",
    "\n",
    "alpha = 5 #y-intercept\n",
    "beta = 10 #slope\n",
    "error_std_dev = 3\n",
    "n = 100\n",
    "min = 0.01\n",
    "max = 1\n",
    "\n",
    "xvals = [min + x*(max-min)/n for x in range(n)]\n",
    "\n",
    "y_exact = [beta*x + alpha for x in xvals]\n",
    "errors = [randn(0,error_std_dev) for x in range(n)]\n",
    "y_measured = [y_exact[i] + errors[i] for i in range(n)]\n",
    "y_measured_matrix = matrix([[y] for y in y_measured]) #turn list into nx1 matrix (vector)\n",
    "\n",
    "\n",
    "X = matrix([[1,x] for x in xvals])\n",
    "OLS = inv(X.transpose() * X) * X.transpose() * y_measured_matrix #Estimating alpha and beta\n",
    "alpha_hat = OLS[0][0].item()\n",
    "beta_hat = OLS[1][0].item()\n",
    "print(f\"true intercept = {alpha}, true slope = {beta}\\n\\nestimated intercept = {alpha_hat}, estimated slope = {beta_hat}\")\n",
    "y_estimated = [alpha_hat + beta_hat * x for x in xvals]\n",
    "\n",
    "\n",
    "\n",
    "fig,ax = plt.subplots()\n",
    "\n",
    "ax.plot(xvals,y_measured,'b^',label='Measured Values')\n",
    "ax.plot(xvals,y_estimated,'r--',label='Estimated Values (OLS)')\n",
    "ax.plot(xvals,y_exact,label='True Underlying Trend Line')\n",
    "legend = ax.legend()\n",
    "plt.ylabel('y values')\n",
    "plt.xlabel('x values')\n",
    "plt.title('OLS Regression')\n",
    "plt.show()\n"
   ]
  }
 ],
 "metadata": {
  "kernelspec": {
   "display_name": "Python 3",
   "language": "python",
   "name": "python3"
  },
  "language_info": {
   "codemirror_mode": {
    "name": "ipython",
    "version": 3
   },
   "file_extension": ".py",
   "mimetype": "text/x-python",
   "name": "python",
   "nbconvert_exporter": "python",
   "pygments_lexer": "ipython3",
   "version": "3.7.4"
  }
 },
 "nbformat": 4,
 "nbformat_minor": 2
}
